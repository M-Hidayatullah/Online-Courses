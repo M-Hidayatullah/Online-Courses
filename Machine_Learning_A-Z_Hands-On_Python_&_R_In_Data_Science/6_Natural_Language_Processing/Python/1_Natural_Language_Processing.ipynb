{
 "cells": [
  {
   "cell_type": "markdown",
   "metadata": {},
   "source": [
    "### Importing the libraries"
   ]
  },
  {
   "cell_type": "code",
   "execution_count": 70,
   "metadata": {},
   "outputs": [],
   "source": [
    "import numpy as np\n",
    "import pandas as pd"
   ]
  },
  {
   "cell_type": "markdown",
   "metadata": {},
   "source": [
    "### Importing the dataset"
   ]
  },
  {
   "cell_type": "code",
   "execution_count": 71,
   "metadata": {},
   "outputs": [],
   "source": [
    "df = pd.read_csv('Restaurant_Reviews.tsv', sep='\\t', quoting=3)"
   ]
  },
  {
   "cell_type": "markdown",
   "metadata": {},
   "source": [
    "### Splitting the dataset"
   ]
  },
  {
   "cell_type": "code",
   "execution_count": 72,
   "metadata": {},
   "outputs": [],
   "source": [
    "from sklearn.model_selection import train_test_split\n",
    "X = df['Review']\n",
    "y = df['Liked']\n",
    "X_train, X_test, y_train, y_test = train_test_split(X, y)"
   ]
  },
  {
   "cell_type": "markdown",
   "metadata": {},
   "source": [
    "### Cleaning the text"
   ]
  },
  {
   "cell_type": "code",
   "execution_count": 73,
   "metadata": {},
   "outputs": [
    {
     "name": "stderr",
     "output_type": "stream",
     "text": [
      "[nltk_data] Downloading package stopwords to\n",
      "[nltk_data]     C:\\Users\\Matheus_Schaly\\AppData\\Roaming\\nltk_data...\n",
      "[nltk_data]   Package stopwords is already up-to-date!\n"
     ]
    }
   ],
   "source": [
    "import re\n",
    "import nltk\n",
    "nltk.download('stopwords')\n",
    "from nltk.corpus import stopwords\n",
    "from nltk.stem.porter import PorterStemmer\n",
    "\n",
    "def text_process(document):\n",
    "    document = re.sub('[^a-zA-Z]', ' ', document)\n",
    "    document = document.lower()\n",
    "    document = document.split()\n",
    "    all_stopwords = stopwords.words('english')\n",
    "    all_stopwords.remove('not')\n",
    "    document = [word for word in document if not word in set(all_stopwords)]\n",
    "    ps = PorterStemmer()\n",
    "    document = [ps.stem(word) for word in document]\n",
    "    return document"
   ]
  },
  {
   "cell_type": "markdown",
   "metadata": {},
   "source": [
    "### Hyperparameter tunning"
   ]
  },
  {
   "cell_type": "code",
   "execution_count": 74,
   "metadata": {},
   "outputs": [],
   "source": [
    "rf_param_grid = {\n",
    "    'bag_of_words__ngram_range': [(1, 1)],\n",
    "    'bag_of_words__max_df': [0.85, 1.0],\n",
    "    'bag_of_words__min_df': [0.01, 0.05],\n",
    "    'estimator__criterion': ['gini'],\n",
    "    'estimator__n_estimators': [100, 300]\n",
    "}\n",
    "\n",
    "nb_param_grid = {\n",
    "    'bag_of_words__ngram_range': [(1, 1), (1, 2)],\n",
    "    'bag_of_words__max_df': [0.85, 1.0],\n",
    "    'bag_of_words__min_df': [0.01, 0.05],\n",
    "    'estimator__alpha': [0.01, 1.0]\n",
    "}"
   ]
  },
  {
   "cell_type": "markdown",
   "metadata": {},
   "source": [
    "### Creating the pipeline"
   ]
  },
  {
   "cell_type": "code",
   "execution_count": 75,
   "metadata": {},
   "outputs": [],
   "source": [
    "from sklearn.pipeline import Pipeline\n",
    "from sklearn.feature_extraction.text import CountVectorizer\n",
    "from sklearn.feature_extraction.text import TfidfTransformer\n",
    "from sklearn.ensemble import RandomForestClassifier\n",
    "from sklearn.naive_bayes import MultinomialNB\n",
    "\n",
    "rf_pipe = Pipeline([\n",
    "    ('bag_of_words', CountVectorizer(analyzer=text_process)),\n",
    "    ('tf_idf', TfidfTransformer()),\n",
    "    ('estimator', RandomForestClassifier())\n",
    "])\n",
    "\n",
    "nb_pipe = Pipeline([\n",
    "    ('bag_of_words', CountVectorizer(analyzer=text_process)),\n",
    "    ('tf_idf', TfidfTransformer()),\n",
    "    ('estimator', MultinomialNB())\n",
    "])"
   ]
  },
  {
   "cell_type": "markdown",
   "metadata": {},
   "source": [
    "### Fitting"
   ]
  },
  {
   "cell_type": "code",
   "execution_count": 76,
   "metadata": {
    "scrolled": true
   },
   "outputs": [
    {
     "name": "stdout",
     "output_type": "stream",
     "text": [
      "Fitting 2 folds for each of 8 candidates, totalling 16 fits\n",
      "[CV] bag_of_words__max_df=0.85, bag_of_words__min_df=0.01, bag_of_words__ngram_range=(1, 1), estimator__criterion=gini, estimator__n_estimators=100 \n"
     ]
    },
    {
     "name": "stderr",
     "output_type": "stream",
     "text": [
      "[Parallel(n_jobs=1)]: Using backend SequentialBackend with 1 concurrent workers.\n"
     ]
    },
    {
     "name": "stdout",
     "output_type": "stream",
     "text": [
      "[CV]  bag_of_words__max_df=0.85, bag_of_words__min_df=0.01, bag_of_words__ngram_range=(1, 1), estimator__criterion=gini, estimator__n_estimators=100, total=   1.8s\n",
      "[CV] bag_of_words__max_df=0.85, bag_of_words__min_df=0.01, bag_of_words__ngram_range=(1, 1), estimator__criterion=gini, estimator__n_estimators=100 \n"
     ]
    },
    {
     "name": "stderr",
     "output_type": "stream",
     "text": [
      "[Parallel(n_jobs=1)]: Done   1 out of   1 | elapsed:    1.7s remaining:    0.0s\n"
     ]
    },
    {
     "name": "stdout",
     "output_type": "stream",
     "text": [
      "[CV]  bag_of_words__max_df=0.85, bag_of_words__min_df=0.01, bag_of_words__ngram_range=(1, 1), estimator__criterion=gini, estimator__n_estimators=100, total=   1.9s\n",
      "[CV] bag_of_words__max_df=0.85, bag_of_words__min_df=0.01, bag_of_words__ngram_range=(1, 1), estimator__criterion=gini, estimator__n_estimators=300 \n",
      "[CV]  bag_of_words__max_df=0.85, bag_of_words__min_df=0.01, bag_of_words__ngram_range=(1, 1), estimator__criterion=gini, estimator__n_estimators=300, total=   2.8s\n",
      "[CV] bag_of_words__max_df=0.85, bag_of_words__min_df=0.01, bag_of_words__ngram_range=(1, 1), estimator__criterion=gini, estimator__n_estimators=300 \n",
      "[CV]  bag_of_words__max_df=0.85, bag_of_words__min_df=0.01, bag_of_words__ngram_range=(1, 1), estimator__criterion=gini, estimator__n_estimators=300, total=   3.7s\n",
      "[CV] bag_of_words__max_df=0.85, bag_of_words__min_df=0.05, bag_of_words__ngram_range=(1, 1), estimator__criterion=gini, estimator__n_estimators=100 \n",
      "[CV]  bag_of_words__max_df=0.85, bag_of_words__min_df=0.05, bag_of_words__ngram_range=(1, 1), estimator__criterion=gini, estimator__n_estimators=100, total=   2.1s\n",
      "[CV] bag_of_words__max_df=0.85, bag_of_words__min_df=0.05, bag_of_words__ngram_range=(1, 1), estimator__criterion=gini, estimator__n_estimators=100 \n",
      "[CV]  bag_of_words__max_df=0.85, bag_of_words__min_df=0.05, bag_of_words__ngram_range=(1, 1), estimator__criterion=gini, estimator__n_estimators=100, total=   2.2s\n",
      "[CV] bag_of_words__max_df=0.85, bag_of_words__min_df=0.05, bag_of_words__ngram_range=(1, 1), estimator__criterion=gini, estimator__n_estimators=300 \n",
      "[CV]  bag_of_words__max_df=0.85, bag_of_words__min_df=0.05, bag_of_words__ngram_range=(1, 1), estimator__criterion=gini, estimator__n_estimators=300, total=   3.3s\n",
      "[CV] bag_of_words__max_df=0.85, bag_of_words__min_df=0.05, bag_of_words__ngram_range=(1, 1), estimator__criterion=gini, estimator__n_estimators=300 \n",
      "[CV]  bag_of_words__max_df=0.85, bag_of_words__min_df=0.05, bag_of_words__ngram_range=(1, 1), estimator__criterion=gini, estimator__n_estimators=300, total=   3.7s\n",
      "[CV] bag_of_words__max_df=1.0, bag_of_words__min_df=0.01, bag_of_words__ngram_range=(1, 1), estimator__criterion=gini, estimator__n_estimators=100 \n",
      "[CV]  bag_of_words__max_df=1.0, bag_of_words__min_df=0.01, bag_of_words__ngram_range=(1, 1), estimator__criterion=gini, estimator__n_estimators=100, total=   3.0s\n",
      "[CV] bag_of_words__max_df=1.0, bag_of_words__min_df=0.01, bag_of_words__ngram_range=(1, 1), estimator__criterion=gini, estimator__n_estimators=100 \n",
      "[CV]  bag_of_words__max_df=1.0, bag_of_words__min_df=0.01, bag_of_words__ngram_range=(1, 1), estimator__criterion=gini, estimator__n_estimators=100, total=   1.9s\n",
      "[CV] bag_of_words__max_df=1.0, bag_of_words__min_df=0.01, bag_of_words__ngram_range=(1, 1), estimator__criterion=gini, estimator__n_estimators=300 \n",
      "[CV]  bag_of_words__max_df=1.0, bag_of_words__min_df=0.01, bag_of_words__ngram_range=(1, 1), estimator__criterion=gini, estimator__n_estimators=300, total=   2.5s\n",
      "[CV] bag_of_words__max_df=1.0, bag_of_words__min_df=0.01, bag_of_words__ngram_range=(1, 1), estimator__criterion=gini, estimator__n_estimators=300 \n",
      "[CV]  bag_of_words__max_df=1.0, bag_of_words__min_df=0.01, bag_of_words__ngram_range=(1, 1), estimator__criterion=gini, estimator__n_estimators=300, total=   2.4s\n",
      "[CV] bag_of_words__max_df=1.0, bag_of_words__min_df=0.05, bag_of_words__ngram_range=(1, 1), estimator__criterion=gini, estimator__n_estimators=100 \n",
      "[CV]  bag_of_words__max_df=1.0, bag_of_words__min_df=0.05, bag_of_words__ngram_range=(1, 1), estimator__criterion=gini, estimator__n_estimators=100, total=   1.8s\n",
      "[CV] bag_of_words__max_df=1.0, bag_of_words__min_df=0.05, bag_of_words__ngram_range=(1, 1), estimator__criterion=gini, estimator__n_estimators=100 \n",
      "[CV]  bag_of_words__max_df=1.0, bag_of_words__min_df=0.05, bag_of_words__ngram_range=(1, 1), estimator__criterion=gini, estimator__n_estimators=100, total=   1.5s\n",
      "[CV] bag_of_words__max_df=1.0, bag_of_words__min_df=0.05, bag_of_words__ngram_range=(1, 1), estimator__criterion=gini, estimator__n_estimators=300 \n",
      "[CV]  bag_of_words__max_df=1.0, bag_of_words__min_df=0.05, bag_of_words__ngram_range=(1, 1), estimator__criterion=gini, estimator__n_estimators=300, total=   2.1s\n",
      "[CV] bag_of_words__max_df=1.0, bag_of_words__min_df=0.05, bag_of_words__ngram_range=(1, 1), estimator__criterion=gini, estimator__n_estimators=300 \n",
      "[CV]  bag_of_words__max_df=1.0, bag_of_words__min_df=0.05, bag_of_words__ngram_range=(1, 1), estimator__criterion=gini, estimator__n_estimators=300, total=   2.2s\n"
     ]
    },
    {
     "name": "stderr",
     "output_type": "stream",
     "text": [
      "[Parallel(n_jobs=1)]: Done  16 out of  16 | elapsed:   39.0s finished\n"
     ]
    },
    {
     "name": "stdout",
     "output_type": "stream",
     "text": [
      "Fitting 2 folds for each of 16 candidates, totalling 32 fits\n",
      "[CV] bag_of_words__max_df=0.85, bag_of_words__min_df=0.01, bag_of_words__ngram_range=(1, 1), estimator__alpha=0.01 \n"
     ]
    },
    {
     "name": "stderr",
     "output_type": "stream",
     "text": [
      "[Parallel(n_jobs=1)]: Using backend SequentialBackend with 1 concurrent workers.\n"
     ]
    },
    {
     "name": "stdout",
     "output_type": "stream",
     "text": [
      "[CV]  bag_of_words__max_df=0.85, bag_of_words__min_df=0.01, bag_of_words__ngram_range=(1, 1), estimator__alpha=0.01, total=   1.2s\n",
      "[CV] bag_of_words__max_df=0.85, bag_of_words__min_df=0.01, bag_of_words__ngram_range=(1, 1), estimator__alpha=0.01 \n"
     ]
    },
    {
     "name": "stderr",
     "output_type": "stream",
     "text": [
      "[Parallel(n_jobs=1)]: Done   1 out of   1 | elapsed:    1.1s remaining:    0.0s\n"
     ]
    },
    {
     "name": "stdout",
     "output_type": "stream",
     "text": [
      "[CV]  bag_of_words__max_df=0.85, bag_of_words__min_df=0.01, bag_of_words__ngram_range=(1, 1), estimator__alpha=0.01, total=   1.1s\n",
      "[CV] bag_of_words__max_df=0.85, bag_of_words__min_df=0.01, bag_of_words__ngram_range=(1, 1), estimator__alpha=1.0 \n",
      "[CV]  bag_of_words__max_df=0.85, bag_of_words__min_df=0.01, bag_of_words__ngram_range=(1, 1), estimator__alpha=1.0, total=   1.5s\n",
      "[CV] bag_of_words__max_df=0.85, bag_of_words__min_df=0.01, bag_of_words__ngram_range=(1, 1), estimator__alpha=1.0 \n",
      "[CV]  bag_of_words__max_df=0.85, bag_of_words__min_df=0.01, bag_of_words__ngram_range=(1, 1), estimator__alpha=1.0, total=   1.3s\n",
      "[CV] bag_of_words__max_df=0.85, bag_of_words__min_df=0.01, bag_of_words__ngram_range=(1, 2), estimator__alpha=0.01 \n",
      "[CV]  bag_of_words__max_df=0.85, bag_of_words__min_df=0.01, bag_of_words__ngram_range=(1, 2), estimator__alpha=0.01, total=   1.3s\n",
      "[CV] bag_of_words__max_df=0.85, bag_of_words__min_df=0.01, bag_of_words__ngram_range=(1, 2), estimator__alpha=0.01 \n",
      "[CV]  bag_of_words__max_df=0.85, bag_of_words__min_df=0.01, bag_of_words__ngram_range=(1, 2), estimator__alpha=0.01, total=   1.5s\n",
      "[CV] bag_of_words__max_df=0.85, bag_of_words__min_df=0.01, bag_of_words__ngram_range=(1, 2), estimator__alpha=1.0 \n",
      "[CV]  bag_of_words__max_df=0.85, bag_of_words__min_df=0.01, bag_of_words__ngram_range=(1, 2), estimator__alpha=1.0, total=   1.4s\n",
      "[CV] bag_of_words__max_df=0.85, bag_of_words__min_df=0.01, bag_of_words__ngram_range=(1, 2), estimator__alpha=1.0 \n",
      "[CV]  bag_of_words__max_df=0.85, bag_of_words__min_df=0.01, bag_of_words__ngram_range=(1, 2), estimator__alpha=1.0, total=   1.6s\n",
      "[CV] bag_of_words__max_df=0.85, bag_of_words__min_df=0.05, bag_of_words__ngram_range=(1, 1), estimator__alpha=0.01 \n",
      "[CV]  bag_of_words__max_df=0.85, bag_of_words__min_df=0.05, bag_of_words__ngram_range=(1, 1), estimator__alpha=0.01, total=   1.7s\n",
      "[CV] bag_of_words__max_df=0.85, bag_of_words__min_df=0.05, bag_of_words__ngram_range=(1, 1), estimator__alpha=0.01 \n",
      "[CV]  bag_of_words__max_df=0.85, bag_of_words__min_df=0.05, bag_of_words__ngram_range=(1, 1), estimator__alpha=0.01, total=   1.3s\n",
      "[CV] bag_of_words__max_df=0.85, bag_of_words__min_df=0.05, bag_of_words__ngram_range=(1, 1), estimator__alpha=1.0 \n",
      "[CV]  bag_of_words__max_df=0.85, bag_of_words__min_df=0.05, bag_of_words__ngram_range=(1, 1), estimator__alpha=1.0, total=   1.3s\n",
      "[CV] bag_of_words__max_df=0.85, bag_of_words__min_df=0.05, bag_of_words__ngram_range=(1, 1), estimator__alpha=1.0 \n",
      "[CV]  bag_of_words__max_df=0.85, bag_of_words__min_df=0.05, bag_of_words__ngram_range=(1, 1), estimator__alpha=1.0, total=   1.8s\n",
      "[CV] bag_of_words__max_df=0.85, bag_of_words__min_df=0.05, bag_of_words__ngram_range=(1, 2), estimator__alpha=0.01 \n",
      "[CV]  bag_of_words__max_df=0.85, bag_of_words__min_df=0.05, bag_of_words__ngram_range=(1, 2), estimator__alpha=0.01, total=   1.2s\n",
      "[CV] bag_of_words__max_df=0.85, bag_of_words__min_df=0.05, bag_of_words__ngram_range=(1, 2), estimator__alpha=0.01 \n",
      "[CV]  bag_of_words__max_df=0.85, bag_of_words__min_df=0.05, bag_of_words__ngram_range=(1, 2), estimator__alpha=0.01, total=   1.5s\n",
      "[CV] bag_of_words__max_df=0.85, bag_of_words__min_df=0.05, bag_of_words__ngram_range=(1, 2), estimator__alpha=1.0 \n",
      "[CV]  bag_of_words__max_df=0.85, bag_of_words__min_df=0.05, bag_of_words__ngram_range=(1, 2), estimator__alpha=1.0, total=   1.1s\n",
      "[CV] bag_of_words__max_df=0.85, bag_of_words__min_df=0.05, bag_of_words__ngram_range=(1, 2), estimator__alpha=1.0 \n",
      "[CV]  bag_of_words__max_df=0.85, bag_of_words__min_df=0.05, bag_of_words__ngram_range=(1, 2), estimator__alpha=1.0, total=   1.0s\n",
      "[CV] bag_of_words__max_df=1.0, bag_of_words__min_df=0.01, bag_of_words__ngram_range=(1, 1), estimator__alpha=0.01 \n",
      "[CV]  bag_of_words__max_df=1.0, bag_of_words__min_df=0.01, bag_of_words__ngram_range=(1, 1), estimator__alpha=0.01, total=   1.2s\n",
      "[CV] bag_of_words__max_df=1.0, bag_of_words__min_df=0.01, bag_of_words__ngram_range=(1, 1), estimator__alpha=0.01 \n",
      "[CV]  bag_of_words__max_df=1.0, bag_of_words__min_df=0.01, bag_of_words__ngram_range=(1, 1), estimator__alpha=0.01, total=   1.2s\n",
      "[CV] bag_of_words__max_df=1.0, bag_of_words__min_df=0.01, bag_of_words__ngram_range=(1, 1), estimator__alpha=1.0 \n",
      "[CV]  bag_of_words__max_df=1.0, bag_of_words__min_df=0.01, bag_of_words__ngram_range=(1, 1), estimator__alpha=1.0, total=   1.1s\n",
      "[CV] bag_of_words__max_df=1.0, bag_of_words__min_df=0.01, bag_of_words__ngram_range=(1, 1), estimator__alpha=1.0 \n",
      "[CV]  bag_of_words__max_df=1.0, bag_of_words__min_df=0.01, bag_of_words__ngram_range=(1, 1), estimator__alpha=1.0, total=   1.5s\n",
      "[CV] bag_of_words__max_df=1.0, bag_of_words__min_df=0.01, bag_of_words__ngram_range=(1, 2), estimator__alpha=0.01 \n",
      "[CV]  bag_of_words__max_df=1.0, bag_of_words__min_df=0.01, bag_of_words__ngram_range=(1, 2), estimator__alpha=0.01, total=   1.3s\n",
      "[CV] bag_of_words__max_df=1.0, bag_of_words__min_df=0.01, bag_of_words__ngram_range=(1, 2), estimator__alpha=0.01 \n",
      "[CV]  bag_of_words__max_df=1.0, bag_of_words__min_df=0.01, bag_of_words__ngram_range=(1, 2), estimator__alpha=0.01, total=   1.4s\n",
      "[CV] bag_of_words__max_df=1.0, bag_of_words__min_df=0.01, bag_of_words__ngram_range=(1, 2), estimator__alpha=1.0 \n",
      "[CV]  bag_of_words__max_df=1.0, bag_of_words__min_df=0.01, bag_of_words__ngram_range=(1, 2), estimator__alpha=1.0, total=   1.6s\n",
      "[CV] bag_of_words__max_df=1.0, bag_of_words__min_df=0.01, bag_of_words__ngram_range=(1, 2), estimator__alpha=1.0 \n",
      "[CV]  bag_of_words__max_df=1.0, bag_of_words__min_df=0.01, bag_of_words__ngram_range=(1, 2), estimator__alpha=1.0, total=   1.4s\n",
      "[CV] bag_of_words__max_df=1.0, bag_of_words__min_df=0.05, bag_of_words__ngram_range=(1, 1), estimator__alpha=0.01 \n",
      "[CV]  bag_of_words__max_df=1.0, bag_of_words__min_df=0.05, bag_of_words__ngram_range=(1, 1), estimator__alpha=0.01, total=   1.4s\n",
      "[CV] bag_of_words__max_df=1.0, bag_of_words__min_df=0.05, bag_of_words__ngram_range=(1, 1), estimator__alpha=0.01 \n",
      "[CV]  bag_of_words__max_df=1.0, bag_of_words__min_df=0.05, bag_of_words__ngram_range=(1, 1), estimator__alpha=0.01, total=   1.2s\n",
      "[CV] bag_of_words__max_df=1.0, bag_of_words__min_df=0.05, bag_of_words__ngram_range=(1, 1), estimator__alpha=1.0 \n",
      "[CV]  bag_of_words__max_df=1.0, bag_of_words__min_df=0.05, bag_of_words__ngram_range=(1, 1), estimator__alpha=1.0, total=   1.3s\n",
      "[CV] bag_of_words__max_df=1.0, bag_of_words__min_df=0.05, bag_of_words__ngram_range=(1, 1), estimator__alpha=1.0 \n",
      "[CV]  bag_of_words__max_df=1.0, bag_of_words__min_df=0.05, bag_of_words__ngram_range=(1, 1), estimator__alpha=1.0, total=   1.6s\n",
      "[CV] bag_of_words__max_df=1.0, bag_of_words__min_df=0.05, bag_of_words__ngram_range=(1, 2), estimator__alpha=0.01 \n",
      "[CV]  bag_of_words__max_df=1.0, bag_of_words__min_df=0.05, bag_of_words__ngram_range=(1, 2), estimator__alpha=0.01, total=   1.2s\n",
      "[CV] bag_of_words__max_df=1.0, bag_of_words__min_df=0.05, bag_of_words__ngram_range=(1, 2), estimator__alpha=0.01 \n",
      "[CV]  bag_of_words__max_df=1.0, bag_of_words__min_df=0.05, bag_of_words__ngram_range=(1, 2), estimator__alpha=0.01, total=   1.6s\n",
      "[CV] bag_of_words__max_df=1.0, bag_of_words__min_df=0.05, bag_of_words__ngram_range=(1, 2), estimator__alpha=1.0 \n",
      "[CV]  bag_of_words__max_df=1.0, bag_of_words__min_df=0.05, bag_of_words__ngram_range=(1, 2), estimator__alpha=1.0, total=   2.1s\n",
      "[CV] bag_of_words__max_df=1.0, bag_of_words__min_df=0.05, bag_of_words__ngram_range=(1, 2), estimator__alpha=1.0 \n",
      "[CV]  bag_of_words__max_df=1.0, bag_of_words__min_df=0.05, bag_of_words__ngram_range=(1, 2), estimator__alpha=1.0, total=   1.6s\n"
     ]
    },
    {
     "name": "stderr",
     "output_type": "stream",
     "text": [
      "[Parallel(n_jobs=1)]: Done  32 out of  32 | elapsed:   44.6s finished\n"
     ]
    },
    {
     "data": {
      "text/plain": [
       "GridSearchCV(cv=2,\n",
       "             estimator=Pipeline(steps=[('bag_of_words',\n",
       "                                        CountVectorizer(analyzer=<function text_process at 0x000001FBDC92F510>)),\n",
       "                                       ('tf_idf', TfidfTransformer()),\n",
       "                                       ('estimator', MultinomialNB())]),\n",
       "             param_grid={'bag_of_words__max_df': [0.85, 1.0],\n",
       "                         'bag_of_words__min_df': [0.01, 0.05],\n",
       "                         'bag_of_words__ngram_range': [(1, 1), (1, 2)],\n",
       "                         'estimator__alpha': [0.01, 1.0]},\n",
       "             verbose=2)"
      ]
     },
     "execution_count": 76,
     "metadata": {},
     "output_type": "execute_result"
    }
   ],
   "source": [
    "from sklearn.model_selection import GridSearchCV\n",
    "\n",
    "rf_grid = GridSearchCV(rf_pipe, rf_param_grid, verbose=2, cv=2)\n",
    "rf_grid.fit(X_train, y_train)\n",
    "\n",
    "nb_grid = GridSearchCV(nb_pipe, nb_param_grid, verbose=2, cv=2)\n",
    "nb_grid.fit(X_train, y_train)"
   ]
  },
  {
   "cell_type": "markdown",
   "metadata": {},
   "source": [
    "### Best parameters found"
   ]
  },
  {
   "cell_type": "code",
   "execution_count": 77,
   "metadata": {},
   "outputs": [
    {
     "data": {
      "text/plain": [
       "{'bag_of_words__max_df': 1.0,\n",
       " 'bag_of_words__min_df': 0.01,\n",
       " 'bag_of_words__ngram_range': (1, 1),\n",
       " 'estimator__criterion': 'gini',\n",
       " 'estimator__n_estimators': 300}"
      ]
     },
     "execution_count": 77,
     "metadata": {},
     "output_type": "execute_result"
    }
   ],
   "source": [
    "rf_grid.best_params_"
   ]
  },
  {
   "cell_type": "code",
   "execution_count": 78,
   "metadata": {},
   "outputs": [
    {
     "data": {
      "text/plain": [
       "{'bag_of_words__max_df': 0.85,\n",
       " 'bag_of_words__min_df': 0.01,\n",
       " 'bag_of_words__ngram_range': (1, 1),\n",
       " 'estimator__alpha': 1.0}"
      ]
     },
     "execution_count": 78,
     "metadata": {},
     "output_type": "execute_result"
    }
   ],
   "source": [
    "nb_grid.best_params_"
   ]
  },
  {
   "cell_type": "markdown",
   "metadata": {},
   "source": [
    "### Predicting using the test set"
   ]
  },
  {
   "cell_type": "code",
   "execution_count": 79,
   "metadata": {},
   "outputs": [],
   "source": [
    "rf_y_pred = rf_grid.predict(X_test)\n",
    "nb_y_pred = nb_grid.predict(X_test)"
   ]
  },
  {
   "cell_type": "markdown",
   "metadata": {},
   "source": [
    "### Evaluating"
   ]
  },
  {
   "cell_type": "code",
   "execution_count": 80,
   "metadata": {},
   "outputs": [
    {
     "name": "stdout",
     "output_type": "stream",
     "text": [
      "Confusion matrix:\n",
      " [[103  29]\n",
      " [ 36  82]]\n",
      "Accuracy: 0.74\n",
      "Precision: 0.7387387387387387\n",
      "Recall: 0.6949152542372882\n",
      "F1-Score: 0.7161572052401748\n",
      "              precision    recall  f1-score   support\n",
      "\n",
      "           0       0.74      0.78      0.76       132\n",
      "           1       0.74      0.69      0.72       118\n",
      "\n",
      "    accuracy                           0.74       250\n",
      "   macro avg       0.74      0.74      0.74       250\n",
      "weighted avg       0.74      0.74      0.74       250\n",
      "\n"
     ]
    }
   ],
   "source": [
    "from sklearn import metrics\n",
    "tn, fp, fn, tp = metrics.confusion_matrix(y_test, rf_y_pred).ravel()\n",
    "print('Confusion matrix:\\n', metrics.confusion_matrix(y_test, rf_y_pred))\n",
    "print('Accuracy:', metrics.accuracy_score(y_test, rf_y_pred))\n",
    "print('Precision:', metrics.precision_score(y_test, rf_y_pred))\n",
    "print('Recall:', metrics.recall_score(y_test, rf_y_pred))\n",
    "print('F1-Score:', metrics.f1_score(y_test, rf_y_pred))\n",
    "print(metrics.classification_report(y_test, rf_y_pred)) # Better for multiclass problem"
   ]
  },
  {
   "cell_type": "code",
   "execution_count": 81,
   "metadata": {},
   "outputs": [
    {
     "name": "stdout",
     "output_type": "stream",
     "text": [
      "Confusion matrix:\n",
      " [[98 34]\n",
      " [26 92]]\n",
      "Accuracy: 0.76\n",
      "Precision: 0.7301587301587301\n",
      "Recall: 0.7796610169491526\n",
      "F1-Score: 0.7540983606557377\n",
      "              precision    recall  f1-score   support\n",
      "\n",
      "           0       0.79      0.74      0.77       132\n",
      "           1       0.73      0.78      0.75       118\n",
      "\n",
      "    accuracy                           0.76       250\n",
      "   macro avg       0.76      0.76      0.76       250\n",
      "weighted avg       0.76      0.76      0.76       250\n",
      "\n"
     ]
    }
   ],
   "source": [
    "from sklearn import metrics\n",
    "tn, fp, fn, tp = metrics.confusion_matrix(y_test, nb_y_pred).ravel()\n",
    "print('Confusion matrix:\\n', metrics.confusion_matrix(y_test, nb_y_pred))\n",
    "print('Accuracy:', metrics.accuracy_score(y_test, nb_y_pred))\n",
    "print('Precision:', metrics.precision_score(y_test, nb_y_pred))\n",
    "print('Recall:', metrics.recall_score(y_test, nb_y_pred))\n",
    "print('F1-Score:', metrics.f1_score(y_test, nb_y_pred))\n",
    "print(metrics.classification_report(y_test, nb_y_pred)) # Better for multiclass problem"
   ]
  },
  {
   "cell_type": "markdown",
   "metadata": {},
   "source": [
    "### Getting attributes (if using Random Forest)"
   ]
  },
  {
   "cell_type": "code",
   "execution_count": 97,
   "metadata": {},
   "outputs": [
    {
     "data": {
      "text/plain": [
       "{'bag_of_words__max_df': 1.0,\n",
       " 'bag_of_words__min_df': 0.01,\n",
       " 'bag_of_words__ngram_range': (1, 1),\n",
       " 'estimator__criterion': 'gini',\n",
       " 'estimator__n_estimators': 300}"
      ]
     },
     "execution_count": 97,
     "metadata": {},
     "output_type": "execute_result"
    }
   ],
   "source": [
    "rf_grid.best_params_"
   ]
  },
  {
   "cell_type": "code",
   "execution_count": 98,
   "metadata": {},
   "outputs": [
    {
     "data": {
      "text/plain": [
       "Pipeline(steps=[('bag_of_words',\n",
       "                 CountVectorizer(analyzer=<function text_process at 0x000001FBDC92F510>,\n",
       "                                 min_df=0.01)),\n",
       "                ('tf_idf', TfidfTransformer()),\n",
       "                ('estimator', RandomForestClassifier(n_estimators=300))])"
      ]
     },
     "execution_count": 98,
     "metadata": {},
     "output_type": "execute_result"
    }
   ],
   "source": [
    "rf_pipe = Pipeline([\n",
    "    ('bag_of_words', CountVectorizer(analyzer=text_process, max_df=1.0, min_df=0.01, ngram_range=(1,1))),\n",
    "    ('tf_idf', TfidfTransformer()),\n",
    "    ('estimator', RandomForestClassifier(n_estimators=300, criterion='gini'))\n",
    "])\n",
    "\n",
    "rf_pipe.fit(X_train, y_train)"
   ]
  },
  {
   "cell_type": "code",
   "execution_count": 99,
   "metadata": {
    "scrolled": false
   },
   "outputs": [
    {
     "data": {
      "text/html": [
       "<div>\n",
       "<style scoped>\n",
       "    .dataframe tbody tr th:only-of-type {\n",
       "        vertical-align: middle;\n",
       "    }\n",
       "\n",
       "    .dataframe tbody tr th {\n",
       "        vertical-align: top;\n",
       "    }\n",
       "\n",
       "    .dataframe thead th {\n",
       "        text-align: right;\n",
       "    }\n",
       "</style>\n",
       "<table border=\"1\" class=\"dataframe\">\n",
       "  <thead>\n",
       "    <tr style=\"text-align: right;\">\n",
       "      <th></th>\n",
       "      <th>importance</th>\n",
       "    </tr>\n",
       "  </thead>\n",
       "  <tbody>\n",
       "    <tr>\n",
       "      <th>not</th>\n",
       "      <td>0.082925</td>\n",
       "    </tr>\n",
       "    <tr>\n",
       "      <th>great</th>\n",
       "      <td>0.070542</td>\n",
       "    </tr>\n",
       "    <tr>\n",
       "      <th>good</th>\n",
       "      <td>0.057881</td>\n",
       "    </tr>\n",
       "    <tr>\n",
       "      <th>love</th>\n",
       "      <td>0.026151</td>\n",
       "    </tr>\n",
       "    <tr>\n",
       "      <th>amaz</th>\n",
       "      <td>0.025203</td>\n",
       "    </tr>\n",
       "    <tr>\n",
       "      <th>delici</th>\n",
       "      <td>0.022172</td>\n",
       "    </tr>\n",
       "    <tr>\n",
       "      <th>disappoint</th>\n",
       "      <td>0.018667</td>\n",
       "    </tr>\n",
       "    <tr>\n",
       "      <th>food</th>\n",
       "      <td>0.018121</td>\n",
       "    </tr>\n",
       "    <tr>\n",
       "      <th>servic</th>\n",
       "      <td>0.017782</td>\n",
       "    </tr>\n",
       "    <tr>\n",
       "      <th>place</th>\n",
       "      <td>0.017618</td>\n",
       "    </tr>\n",
       "    <tr>\n",
       "      <th>nice</th>\n",
       "      <td>0.017325</td>\n",
       "    </tr>\n",
       "    <tr>\n",
       "      <th>go</th>\n",
       "      <td>0.016830</td>\n",
       "    </tr>\n",
       "    <tr>\n",
       "      <th>like</th>\n",
       "      <td>0.016733</td>\n",
       "    </tr>\n",
       "    <tr>\n",
       "      <th>perfect</th>\n",
       "      <td>0.014700</td>\n",
       "    </tr>\n",
       "    <tr>\n",
       "      <th>awesom</th>\n",
       "      <td>0.014367</td>\n",
       "    </tr>\n",
       "    <tr>\n",
       "      <th>friendli</th>\n",
       "      <td>0.013866</td>\n",
       "    </tr>\n",
       "    <tr>\n",
       "      <th>best</th>\n",
       "      <td>0.013658</td>\n",
       "    </tr>\n",
       "    <tr>\n",
       "      <th>bad</th>\n",
       "      <td>0.013062</td>\n",
       "    </tr>\n",
       "    <tr>\n",
       "      <th>also</th>\n",
       "      <td>0.012594</td>\n",
       "    </tr>\n",
       "    <tr>\n",
       "      <th>back</th>\n",
       "      <td>0.012309</td>\n",
       "    </tr>\n",
       "  </tbody>\n",
       "</table>\n",
       "</div>"
      ],
      "text/plain": [
       "            importance\n",
       "not           0.082925\n",
       "great         0.070542\n",
       "good          0.057881\n",
       "love          0.026151\n",
       "amaz          0.025203\n",
       "delici        0.022172\n",
       "disappoint    0.018667\n",
       "food          0.018121\n",
       "servic        0.017782\n",
       "place         0.017618\n",
       "nice          0.017325\n",
       "go            0.016830\n",
       "like          0.016733\n",
       "perfect       0.014700\n",
       "awesom        0.014367\n",
       "friendli      0.013866\n",
       "best          0.013658\n",
       "bad           0.013062\n",
       "also          0.012594\n",
       "back          0.012309"
      ]
     },
     "execution_count": 99,
     "metadata": {},
     "output_type": "execute_result"
    }
   ],
   "source": [
    "feature_importance = pd.DataFrame(rf_pipe.steps[2][1].feature_importances_,\n",
    "                                  rf_pipe.steps[0][1].get_feature_names(),\n",
    "                                  columns=['importance'])\n",
    "feature_importance.sort_values('importance', ascending=False).head(20)"
   ]
  }
 ],
 "metadata": {
  "kernelspec": {
   "display_name": "Python 3",
   "language": "python",
   "name": "python3"
  },
  "language_info": {
   "codemirror_mode": {
    "name": "ipython",
    "version": 3
   },
   "file_extension": ".py",
   "mimetype": "text/x-python",
   "name": "python",
   "nbconvert_exporter": "python",
   "pygments_lexer": "ipython3",
   "version": "3.7.1"
  }
 },
 "nbformat": 4,
 "nbformat_minor": 2
}
